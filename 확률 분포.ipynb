{
 "cells": [
  {
   "cell_type": "markdown",
   "metadata": {},
   "source": [
    "## 1. 이산형 확률 분포\n",
    "\n",
    "- 이산형(Discrete) 확률 변수가 취하는 값에 대한 확률을 나타내는 분포\n",
    "\n",
    "|분포|확률 변수|매개변수|확률 질량 함수|E(X)|V(X)|\n",
    "|----|:---------|:--------------|:----|---|---|\n",
    "|베르누이(Bernoulii) 분포|베르누이 시행(0 또는 1)의 결과|p: 1이 나올 확률|$p(1)=p$|$p$|$$p\\left(1-p\\right)$$|\n",
    "|이항(Binomial) 분포|연속된 n번의 베르누이 시행에서 n번 중 1이 나온 횟수|p: 1이 나올 확률, n: 총 시행수|$$p(x)={n \\choose x}p^x(1-p)^{n-x}$$|$np$|$np(1-p)$|\n",
    "|포아송(Poisson) 분포|단위 시간 또는 공간에서 발생하는 사건수|$$\\lambda$$: 단위 시간 또는 공간에서 발생하는 평균 사건수|$$p(x)=\\frac{e^{-\\lambda}(\\lambda)^x}{x!}$$|$\\lambda$|$\\lambda$|\n"
   ]
  },
  {
   "cell_type": "markdown",
   "metadata": {},
   "source": [
    "## 2. 연속형 확률 분포\n",
    "\n",
    "- 연속형(Continuous)  확률 변수가 취하는 값에 대한 확률을 나타내는 분포\n",
    "\n",
    "|분포|확률 변수|매개변수|확률 밀도 함수|E(X)|V(X)|\n",
    "|---|:---|:---|:-------|:---:|:---:|\n",
    "|지수(Exponential) 분포|다음 사건이 발생하는 시간|$\\lambda$:단위 또는 시간 공간에서 발생하는 평균 사건 수|$$\\lambda e^{-\\lambda x}$$|$$\\frac{1}{\\lambda}$$|$$\\frac{1}{\\lambda^2}$$|\n",
    "|감마(Gamma) 분포|다음 $\\alpha$개의 사건이 발생하는 평균 시간|$\\alpha$: 사건의 발생 횟수, $\\beta$: 단위 시간 또는 공간에서 발생하는 평균 사건수|$$\\frac{\\beta^\\alpha x^{\\alpha-1} e^{-\\beta x}}{\\Gamma(\\alpha)}$$|$$\\frac{\\alpha}{\\beta}$$|$$\\frac{\\alpha}{\\beta^2}$$|\n",
    "|정규(Normal) 분포|좌우 대칭의 종모양 분포|$\\mu$:평균, $\\sigma^2$: 분산|$$\\frac{1}{\\sigma\\sqrt{2 \\pi}}e^{-\\frac{(x-\\mu)^2}{2 \\sigma^2}}$$|$$\\mu$$|$$\\sigma^2$$|\n",
    "|t 분포|$$t=\\frac{\\bar{X} - \\mu}{s/\\sqrt{n}}$$<br/>$$\\bar{X}: \\text{표본 평균}$$<br/>$$\\mu: \\text{모평균}, s: \\text{표본분산}$$|$$\\nu: \\text{자유도}$$|$$\\frac{\\Gamma\\left(\\frac{\\nu + 1}{2}\\right)}{\\sqrt{\\pi \\nu} \\Gamma\\left(\\frac{\\nu}{2}\\right)} \\left(1 + \\frac{t^2}{\\nu}\\right)^{-\\frac{\\nu + 1}{2}}$$|0, $$\\nu > 1$$|$$\\frac{\\nu}{\\nu-2}, \\nu > 2$$|\n",
    "|카이 제곱(Chi-Square)|표준 정규 분포를 따르는 k개의 독립인 확률 변수의 제곱의 합 분포|k: 자유도|$$\\frac{1}{2^{k/2}\\Gamma(k/2)} x^{k/2 - 1} e^{-x/2}$$|k|2k|\n",
    "|F 분포|두 개의 카이 제곱 분포를 따르는 확률 변수의 비율|d1: 분자의 자유도 d2: 분모의 자유도|별도 기재|$$\\frac{d_{2}}{d_{2}-2}$$,<br/>$$d_2 > 2$$|$$\\frac{2\\,d_{2}^{2}\\,(d_{1}+d_{2}-2)}{d_{1}(d_{2}-2)^{2}(d_{2}-4)}$$, <br/> $$d2 > 4$$|\n",
    "\n",
    "F 분포의 확률 밀도 함수: $$\\frac{\\Gamma\\left(\\frac{d_1 + d_2}{2}\\right)}{\\Gamma\\left(\\frac{d_1}{2}\\right)\\Gamma\\left(\\frac{d_2}{2}\\right)} \\left(\\frac{d_1}{d_2}\\right)^{d_1/2} \\frac{x^{d_1/2 - 1}}{\\left(1 + \\frac{d_1}{d_2}x\\right)^{\\frac{d_1 + d_2}{2}}}$$"
   ]
  },
  {
   "cell_type": "code",
   "execution_count": null,
   "metadata": {},
   "outputs": [],
   "source": []
  },
  {
   "cell_type": "code",
   "execution_count": 5,
   "metadata": {},
   "outputs": [],
   "source": [
    "from scipy.stats import binom, poisson, chi2, f, t, norm, expon, gamma"
   ]
  },
  {
   "cell_type": "markdown",
   "metadata": {},
   "source": [
    "#### scipy.stats\n",
    "\n",
    "- 확률 관련 메소드(method) 정리\n",
    "\n",
    "|메소드명|메소드명 기능|설명|\n",
    "|---|---|---|\n",
    "|rvs|random variates|확률 변수를 생성|\n",
    "|pdf|probability density function|확률 밀도 함수|\n",
    "|pmf|probability mass function|확률 질량 함수|\n",
    "|cdf|cumulative density function|누적 밀도 함수|\n",
    "|ppf|percent point function, inverse of cdf|백분위 함수, cdf의 역함수: 0~1사이의 분위의 역함수|\n",
    "|sf|survival function, 1 - cdf|1 - cdf|"
   ]
  },
  {
   "cell_type": "markdown",
   "metadata": {},
   "source": [
    "**[Ex.1]**\n",
    "\n",
    "<div style=\"border: 1px solid #ddd; padding: 12px; margin-top: 10px\">\n",
    "\n",
    "1. X는 n = 100, p = 0.3인 이항분포를 따릅니다. $P(X=20)$을 구합니다.\n",
    "    \n",
    "2. X는 n = 100, p = 0.3 인 이항분포를 따릅니다. $P(X <= 20)$를 구합니다.\n",
    "\n",
    "3. X는 n = 100, p = 0.3 인 이항분포를 따릅니다. $P(X <= A)=0.1$를 구합니다. 이 때, A를 구합니다.\n",
    "\n",
    "</div>"
   ]
  },
  {
   "cell_type": "code",
   "execution_count": 11,
   "metadata": {},
   "outputs": [
    {
     "data": {
      "text/plain": [
       "0.007575644925726655"
      ]
     },
     "execution_count": 11,
     "metadata": {},
     "output_type": "execute_result"
    }
   ],
   "source": [
    "# 1.\n",
    "binom.pmf(20, n=100, p=0.3)"
   ]
  },
  {
   "cell_type": "code",
   "execution_count": 12,
   "metadata": {},
   "outputs": [
    {
     "data": {
      "text/plain": [
       "0.01646285324186938"
      ]
     },
     "execution_count": 12,
     "metadata": {},
     "output_type": "execute_result"
    }
   ],
   "source": [
    "# 2.\n",
    "binom.cdf(20, n=100, p=0.3)"
   ]
  },
  {
   "cell_type": "code",
   "execution_count": 13,
   "metadata": {},
   "outputs": [
    {
     "data": {
      "text/plain": [
       "24.0"
      ]
     },
     "execution_count": 13,
     "metadata": {},
     "output_type": "execute_result"
    }
   ],
   "source": [
    "# 3.\n",
    "binom.ppf(0.1, n=100, p=0.3)"
   ]
  },
  {
   "cell_type": "code",
   "execution_count": null,
   "metadata": {},
   "outputs": [],
   "source": []
  },
  {
   "cell_type": "markdown",
   "metadata": {},
   "source": [
    "**[Ex.2]**\n",
    "\n",
    "<div style=\"border: 1px solid #ddd; padding: 12px; margin-top: 10px\">\n",
    "\n",
    "손님이 10분 동안에 평균 5명 온다고 할 때, 새로운 손님이 4분 이내에 올 확률을 지수 분포를 이용하여 구해봅니다. \n",
    "    \n",
    "손님이 오는 사건은 서로 독립입니다.\n",
    "    \n",
    "</div>\n",
    "\n",
    "**[풀이]**\n",
    "\n",
    "<div style=\"border: 1px solid #ddd; padding: 12px; margin-top: 10px\">\n",
    "\n",
    "$\\lambda=5$, 4분의 확률변수 X = 4분 / 10분, \n",
    "\n",
    "$P(X \\le 0.4; \\lambda=5)$\n",
    "    \n",
    "</div>"
   ]
  },
  {
   "cell_type": "code",
   "execution_count": 14,
   "metadata": {},
   "outputs": [
    {
     "data": {
      "text/plain": [
       "0.8646647167633873"
      ]
     },
     "execution_count": 14,
     "metadata": {},
     "output_type": "execute_result"
    }
   ],
   "source": [
    "expon.cdf(0.4, scale=1/5)"
   ]
  }
 ],
 "metadata": {
  "kernelspec": {
   "display_name": "Python 3",
   "language": "python",
   "name": "python3"
  },
  "language_info": {
   "codemirror_mode": {
    "name": "ipython",
    "version": 3
   },
   "file_extension": ".py",
   "mimetype": "text/x-python",
   "name": "python",
   "nbconvert_exporter": "python",
   "pygments_lexer": "ipython3",
   "version": "3.8.5"
  }
 },
 "nbformat": 4,
 "nbformat_minor": 4
}
