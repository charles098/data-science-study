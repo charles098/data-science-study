{
 "cells": [
  {
   "cell_type": "markdown",
   "metadata": {},
   "source": [
    "## 확률 정리 \n",
    "\n",
    "#### 잘못 알고 있었던 사실\n",
    "- 독립 사건이면 교집합이 공집합인 줄 알았음\n",
    "- 이는 배반사건의 정의\n",
    "- 독립 사건은 벤다이어그램으로 표현할 수 없음\n",
    "- 배반사건은 벤다이어그램으로 표현 가능 (두 사건이 겹치지 않음)\n",
    "\n",
    "||배반사건|독립사건|\n",
    "|------|---|---|\n",
    "|정의|A ∩ B = 0|P(B \\| ~A) = P(B \\| A) = P(B)|\n",
    "|의미|동시에 일어나지 않는다|동시에 일어날 때 서로 영향을 주지 않는다|\n",
    "|확률의 덧셈정리|P(A U B) = P(A) + P(B)|P(A U B) = P(A) + P(B) - P(A ∩ B)|\n",
    "|확률의 곱셈정리|P(A ∩ B) = 0|P(A ∩ B) = P(A) * P(B)|\n",
    "|판단|P(A ∩ B) = 0|P(A ∩ B) = P(A) * P(B)|\n",
    "\n",
    "<br>\n",
    "\n",
    "### A, B가 독립이라면 아래 식이 성립\n",
    "\n",
    "> $P(A|B) = P(A)$ \n",
    ">\n",
    "> $P(B|A) = P(B)$\n",
    ">\n",
    "> $P(A,B) = P(A)P(B)$\n",
    "\n",
    "<br>\n",
    "\n",
    "### 조건부 독립\n",
    "\n",
    "C 조건이 주어졌을 때, A와 B가 서로 독립이 된다면, 아래 식이 성립\n",
    "\n",
    "> $P(A|B,C) = P(A|C)$\n",
    ">\n",
    "> $P(B|A,C) = P(B|C)$\n",
    ">\n",
    "> $P(A,B|C) = P(A|C)P(B|C)$\n",
    "\n",
    "<br>\n",
    "\n",
    "### 베이즈 정리(Bayes' Theorem)\n",
    "\n",
    "> $P(A|B) = \\frac{P(B|A)P(A)}{P(B)}$\n",
    "\n",
    "- 전확률의 법칙 적용\n",
    "\n",
    "> $P(A_i|B) = \\frac{P(B|A_i)P(A_i)}{P(B)} = \\frac{P(B|A_i)P(A_i)}{\\sum_{\\forall j}P(A_j,B)} = \\frac{P(B|A_i)P(A_i)}{\\sum_{\\forall j}P(B|A_j)P(A_j)}$\n",
    "\n",
    "\n",
    "<br>\n",
    "\n",
    "### 베이즈 정리의 요소\n",
    "\n",
    "베이즈 정리를 이용하면, A 사건이 발생할 가능성을 B 사건을 통해서 구체화할 수 있습니다.\n",
    "\n",
    "이 관점에서 베이즈 정리의 요소들을 아래와 같이 구분할 수 있습니다.\n",
    "\n",
    "> $P(A|B) = \\frac{P(B|A)P(A)}{P(B)}$\n",
    "\n",
    "-  사전 확률(Prior): P(A) → B 사건이 발생하기 전에 알려진 확률입니다. 경험을 토대로 알고 있는 A가 일어날 확률입니다. \n",
    "\n",
    "\n",
    "-  사후 확률(Posterior): P(A|B) → B 사건이 발생한 후에 조건부로 계산되는 확률입니다. B 사건이 발생한 후에 알게 되는 A가 일어날 확률입니다.\n",
    "\n",
    "\n",
    "-  우도(liklihood): P(B|A) → A 사건이 발생했을 때, B 사건이 일어났을 확률입니다. 또는 A 사건이 발생한다면, B 사건이 일어날 확률입니다. \n",
    "\n",
    "\n",
    "-  증거(Evidence): P(B) → B 사건이 발생할 확률. B 사건이 지니는 A 사건에 대한 영향력을 나타냅니다.  "
   ]
  },
  {
   "cell_type": "markdown",
   "metadata": {},
   "source": [
    "#### 베이즈 문제 예시\n",
    "\n",
    "$P(Survived=True|Pclass, Sex, Embarked)$ 를 Pclass, Sex, Embarked 의 모든 표본 공간(사건 공간)에 대한 확률을 구해봅니다.\n",
    "\n",
    "Survived가 조건으로 주어진다면 Pclass, Sex 그리고 Embarked는 서로 독립임을 가정"
   ]
  },
  {
   "cell_type": "markdown",
   "metadata": {},
   "source": [
    "$P(Survived=True|Pclass, Sex, Embarked) = \\frac{P(Pclass, Sex, Embarked|Survived=True)P(Survived=True)}{P(Pclass, Sex, Embarked|Survived=True)P(Survived=True) + P(Pclass, Sex, Embarked|Survived=False)P(Survived=False)}$\n",
    "\n",
    "\n",
    "#### 1) P(Pclass, Sex, Embarked, Survived=True)\n",
    "$P(Pclass, Sex, Embarked|Survived=True) $\n",
    "\n",
    "$= P(Pclass | Survived=True) P(Sex|Survived=True) P(Embarked|Survived=True)$\n",
    "\n",
    "#### 2) P(Pclass, Sex, Embarked|Survived=False)\n",
    "$= P(Pclass|Survived=False) P(Sex|Survived=False) P(Embarked|Survived=False)$"
   ]
  }
 ],
 "metadata": {
  "kernelspec": {
   "display_name": "Python 3",
   "language": "python",
   "name": "python3"
  },
  "language_info": {
   "codemirror_mode": {
    "name": "ipython",
    "version": 3
   },
   "file_extension": ".py",
   "mimetype": "text/x-python",
   "name": "python",
   "nbconvert_exporter": "python",
   "pygments_lexer": "ipython3",
   "version": "3.8.5"
  }
 },
 "nbformat": 4,
 "nbformat_minor": 4
}
