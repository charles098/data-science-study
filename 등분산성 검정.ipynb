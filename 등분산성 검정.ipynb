{
 "cells": [
  {
   "cell_type": "markdown",
   "metadata": {},
   "source": [
    "# 귀무가설 : 분산이 같다"
   ]
  },
  {
   "cell_type": "markdown",
   "metadata": {},
   "source": [
    "### 사용법 모두 동일\n",
    "#### scipy.stats.fligner(*samples, center='median', proportiontocut=0.05)\n",
    "#### scipy.stats.bartlett(*samples)\n",
    "#### scipy.stats.levene(*samples, center='median', proportiontocut=0.05)\n",
    "#### scipy.stats.f_oneway(*samples, axis=0)"
   ]
  },
  {
   "cell_type": "code",
   "execution_count": 2,
   "metadata": {},
   "outputs": [],
   "source": [
    "from scipy.stats import fligner, bartlett, levene, f_oneway"
   ]
  },
  {
   "cell_type": "code",
   "execution_count": 18,
   "metadata": {},
   "outputs": [],
   "source": [
    "import numpy as np\n",
    "\n",
    "a = [8.88, 9.12, 9.04, 8.98, 9.00, 9.08, 9.01, 8.85, 9.06, 8.99]\n",
    "b = [8.88, 8.95, 9.29, 9.44, 9.15, 9.58, 8.36, 9.18, 8.67, 9.05]\n",
    "c = [8.95, 9.12, 8.95, 8.85, 9.03, 8.84, 9.07, 8.98, 8.86, 8.98]\n",
    "\n",
    "samples = [a, b, c]"
   ]
  },
  {
   "cell_type": "code",
   "execution_count": 19,
   "metadata": {},
   "outputs": [],
   "source": [
    "dit = { 'fligner' : fligner(*samples),\n",
    "        'bartlett' : bartlett(*samples),\n",
    "        'levene' : levene(*samples),\n",
    "        'f_oneway' : f_oneway(*samples)\n",
    "      }"
   ]
  },
  {
   "cell_type": "code",
   "execution_count": 22,
   "metadata": {},
   "outputs": [],
   "source": [
    "# 이렇게 해도 된다 \n",
    "dit2 = { 'fligner' : fligner(a, b, c),\n",
    "         'bartlett' : bartlett(a, b, c),\n",
    "         'levene' : levene(a, b, c),\n",
    "         'f_oneway' : f_oneway(a, b, c)\n",
    "       }"
   ]
  },
  {
   "cell_type": "code",
   "execution_count": 20,
   "metadata": {},
   "outputs": [
    {
     "name": "stdout",
     "output_type": "stream",
     "text": [
      "fligner_stat = 10.803687663522238\n",
      "fligner_pval = 0.00450826080004775\n",
      "\n",
      "bartlett_stat = 22.789434813726768\n",
      "bartlett_pval = 1.1254782518834628e-05\n",
      "\n",
      "levene_stat = 7.584952754501659\n",
      "levene_pval = 0.002431505967249681\n",
      "\n",
      "f_oneway_stat = 0.4371321440745385\n",
      "f_oneway_pval = 0.6503763410596248\n",
      "\n"
     ]
    }
   ],
   "source": [
    "for method, (stat, pval) in zip(dit.keys(), dit.values()):\n",
    "    print(f'{method}_stat = {stat}')\n",
    "    print(f'{method}_pval = {pval}\\n')"
   ]
  },
  {
   "cell_type": "code",
   "execution_count": null,
   "metadata": {},
   "outputs": [],
   "source": []
  }
 ],
 "metadata": {
  "kernelspec": {
   "display_name": "Python 3",
   "language": "python",
   "name": "python3"
  },
  "language_info": {
   "codemirror_mode": {
    "name": "ipython",
    "version": 3
   },
   "file_extension": ".py",
   "mimetype": "text/x-python",
   "name": "python",
   "nbconvert_exporter": "python",
   "pygments_lexer": "ipython3",
   "version": "3.8.3"
  }
 },
 "nbformat": 4,
 "nbformat_minor": 4
}
