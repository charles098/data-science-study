{
 "cells": [
  {
   "cell_type": "code",
   "execution_count": 33,
   "metadata": {},
   "outputs": [],
   "source": [
    "import numpy as np"
   ]
  },
  {
   "cell_type": "markdown",
   "metadata": {},
   "source": [
    "# 귀무가설 : 데이터가 정규분포를 따른다"
   ]
  },
  {
   "cell_type": "markdown",
   "metadata": {},
   "source": [
    "## 1. shapiro, normaltest, jarque_bera\n",
    "scipy.stats.shapiro(x)\n",
    "scipy.stats.normaltest(x, axis=0, nan_policy='propagate')\n",
    "scipy.stats.jarque_bera(x, *, axis=None, nan_policy='propagate', keepdims=False)\n",
    "\n",
    "- parameters\n",
    "    - x : array-like\n",
    "- returns \n",
    "    - statistic\n",
    "    - pvalue"
   ]
  },
  {
   "cell_type": "code",
   "execution_count": 54,
   "metadata": {},
   "outputs": [
    {
     "name": "stdout",
     "output_type": "stream",
     "text": [
      "shapiro_stat = 0.7888147830963135\n",
      "shapiro_pval = 0.006703833118081093\n",
      "\n",
      "normaltest_stat = 13.034263121192582\n",
      "normaltest_pval = 0.0014779023013100172\n",
      "\n",
      "jarque_bera_stat = 6.982848237344646\n",
      "jarque_bera_pval = 0.03045746622458189\n",
      "\n"
     ]
    }
   ],
   "source": [
    "from scipy.stats import shapiro, normaltest, jarque_bera\n",
    "\n",
    "x = np.array([148, 154, 158, 160, 161, 162, 166, 170, 182, 195, 236])\n",
    "\n",
    "shapiro_stat, shapiro_pval = shapiro(x)\n",
    "norm_stat, norm_pval = normaltest(x)\n",
    "jarque_stat, jarque_pval = jarque_bera(x)\n",
    "\n",
    "dit =  {'shapiro' : shapiro(x),\n",
    "          'normaltest': normaltest(x),\n",
    "          'jarque_bera': jarque_bera(x)}\n",
    "\n",
    "for key, (stat, pval) in zip(dit.keys(), dit.values()):\n",
    "    print(f'{key}_stat = {stat}')\n",
    "    print(f'{key}_pval = {pval}\\n')\n"
   ]
  },
  {
   "cell_type": "code",
   "execution_count": null,
   "metadata": {},
   "outputs": [],
   "source": []
  },
  {
   "cell_type": "markdown",
   "metadata": {},
   "source": [
    "## 2. anderson\n",
    "scipy.stats.anderson(x, dist='norm')\n",
    "- parameters\n",
    "    - x : array-like\n",
    "    - dist : 검정하고자 하는 분포. default는 'norm'으로, 정규성 검정이 디폴트임\n",
    "- returns\n",
    "    - statistic : 검정통계량\n",
    "    - critical_values : 임계값\n",
    "    - significance_level : 유의수준\n",
    "- 확인하고자 하는 유의수준에 대응하는 임계값을 찾는다\n",
    "    - 임계값 > 검정통계량 : 대립가설 채택 = 정규분포 따름\n",
    "    - 임계값 < 검정통계량 : 귀무가설 기각 = 정규분포 따르지 않음"
   ]
  },
  {
   "cell_type": "code",
   "execution_count": 48,
   "metadata": {},
   "outputs": [
    {
     "name": "stdout",
     "output_type": "stream",
     "text": [
      "검정통계량: 0.2609858431763481\n",
      "임계값 : [0.507 0.578 0.693 0.808 0.961]\n",
      "유의수준 : [15.  10.   5.   2.5  1. ]\n"
     ]
    }
   ],
   "source": [
    "from scipy.stats import anderson\n",
    "\n",
    "data = [1, 2, 2, 3, 3, 3, 4, 4, 5]\n",
    "\n",
    "stat, critical_vals, sig_lvs = anderson(data)\n",
    "\n",
    "print(f\"검정통계량: {stat}\")\n",
    "print(f\"임계값 : {critical_vals}\")\n",
    "print(f\"유의수준 : {sig_lvs}\")"
   ]
  },
  {
   "cell_type": "code",
   "execution_count": null,
   "metadata": {},
   "outputs": [],
   "source": []
  },
  {
   "cell_type": "markdown",
   "metadata": {},
   "source": [
    "## 3. kstest\n",
    "scipy.stats.kstest(rvs, cdf, args=(), N=20, alternative='two-sided', method='auto')\n",
    "- parameters\n",
    "    - rvs : 대상 데이터 (1차원 배열)\n",
    "    - cdf \n",
    "        - str, array-like, callable. str인 경우 scipy.stats의 분포 이름이어야 하며, 이 이름은 cdf 함수로 사용됨\n",
    "        - 정규성 검정에는 'norm'을 넣어주면 됨\n",
    "- returns\n",
    "    - statistic : 검정통계량\n",
    "    - pvalue : p값"
   ]
  },
  {
   "cell_type": "code",
   "execution_count": 26,
   "metadata": {},
   "outputs": [
    {
     "name": "stdout",
     "output_type": "stream",
     "text": [
      "검정통계량: 0.013316948234725512\n",
      "p-value: 0.9933888833308836\n"
     ]
    }
   ],
   "source": [
    "from scipy.stats import kstest\n",
    "x = np.random.normal(0,1,1000)\n",
    "stat, pval = kstest(x , 'norm')\n",
    "\n",
    "print(f'검정통계량: {stat}')\n",
    "print(f'p-value: {pval}')"
   ]
  },
  {
   "cell_type": "code",
   "execution_count": null,
   "metadata": {},
   "outputs": [],
   "source": []
  }
 ],
 "metadata": {
  "kernelspec": {
   "display_name": "Python 3",
   "language": "python",
   "name": "python3"
  },
  "language_info": {
   "codemirror_mode": {
    "name": "ipython",
    "version": 3
   },
   "file_extension": ".py",
   "mimetype": "text/x-python",
   "name": "python",
   "nbconvert_exporter": "python",
   "pygments_lexer": "ipython3",
   "version": "3.8.3"
  }
 },
 "nbformat": 4,
 "nbformat_minor": 4
}
