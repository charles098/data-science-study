{
 "cells": [
  {
   "cell_type": "code",
   "execution_count": 1,
   "metadata": {},
   "outputs": [],
   "source": [
    "import numpy as np"
   ]
  },
  {
   "cell_type": "markdown",
   "metadata": {},
   "source": [
    "# 귀무가설 : 데이터가 정규분포를 따른다"
   ]
  },
  {
   "cell_type": "markdown",
   "metadata": {},
   "source": [
    "## 1. shapiro, normaltest, jarque_bera\n",
    "scipy.stats.shapiro(x)\n",
    "scipy.stats.normaltest(x, axis=0, nan_policy='propagate')\n",
    "scipy.stats.jarque_bera(x, *, axis=None, nan_policy='propagate', keepdims=False)\n",
    "\n",
    "- parameters\n",
    "    - x : array-like\n",
    "- returns \n",
    "    - statistic\n",
    "    - pvalue"
   ]
  },
  {
   "cell_type": "code",
   "execution_count": 2,
   "metadata": {},
   "outputs": [
    {
     "name": "stdout",
     "output_type": "stream",
     "text": [
      "shapiro_stat = 0.7888146638870239\n",
      "shapiro_pval = 0.006703815422952175\n",
      "\n",
      "normaltest_stat = 13.034263121192582\n",
      "normaltest_pval = 0.0014779023013100172\n",
      "\n",
      "jarque_bera_stat = 6.982848237344646\n",
      "jarque_bera_pval = 0.030457466224581897\n",
      "\n"
     ]
    },
    {
     "name": "stderr",
     "output_type": "stream",
     "text": [
      "C:\\Users\\LeeChan\\Anaconda3\\lib\\site-packages\\scipy\\stats\\stats.py:1541: UserWarning: kurtosistest only valid for n>=20 ... continuing anyway, n=11\n",
      "  warnings.warn(\"kurtosistest only valid for n>=20 ... continuing \"\n"
     ]
    }
   ],
   "source": [
    "from scipy.stats import shapiro, normaltest, jarque_bera\n",
    "\n",
    "x = np.array([148, 154, 158, 160, 161, 162, 166, 170, 182, 195, 236])\n",
    "\n",
    "shapiro_stat, shapiro_pval = shapiro(x)\n",
    "norm_stat, norm_pval = normaltest(x)\n",
    "jarque_stat, jarque_pval = jarque_bera(x)\n",
    "\n",
    "dit =  {'shapiro' : shapiro(x),\n",
    "          'normaltest': normaltest(x),\n",
    "          'jarque_bera': jarque_bera(x)}\n",
    "\n",
    "for key, (stat, pval) in zip(dit.keys(), dit.values()):\n",
    "    print(f'{key}_stat = {stat}')\n",
    "    print(f'{key}_pval = {pval}\\n')\n"
   ]
  },
  {
   "cell_type": "code",
   "execution_count": null,
   "metadata": {},
   "outputs": [],
   "source": []
  },
  {
   "cell_type": "markdown",
   "metadata": {},
   "source": [
    "## 2. anderson\n",
    "scipy.stats.anderson(x, dist='norm')\n",
    "- parameters\n",
    "    - x : array-like\n",
    "    - dist : 검정하고자 하는 분포. default는 'norm'으로, 정규성 검정이 디폴트임\n",
    "- returns\n",
    "    - statistic : 검정통계량\n",
    "    - critical_values : 임계값\n",
    "    - significance_level : 유의수준\n",
    "- 확인하고자 하는 유의수준에 대응하는 임계값을 찾는다\n",
    "    - 임계값 > 검정통계량 : 대립가설 채택 = 정규분포 따름\n",
    "    - 임계값 < 검정통계량 : 귀무가설 기각 = 정규분포 따르지 않음"
   ]
  },
  {
   "cell_type": "code",
   "execution_count": 3,
   "metadata": {},
   "outputs": [
    {
     "name": "stdout",
     "output_type": "stream",
     "text": [
      "검정통계량: 0.2609858431763481\n",
      "임계값 : [0.507 0.578 0.693 0.808 0.961]\n",
      "유의수준 : [15.  10.   5.   2.5  1. ]\n"
     ]
    }
   ],
   "source": [
    "from scipy.stats import anderson\n",
    "\n",
    "data = [1, 2, 2, 3, 3, 3, 4, 4, 5]\n",
    "\n",
    "stat, critical_vals, sig_lvs = anderson(data)\n",
    "\n",
    "print(f\"검정통계량: {stat}\")\n",
    "print(f\"임계값 : {critical_vals}\")\n",
    "print(f\"유의수준 : {sig_lvs}\")"
   ]
  },
  {
   "cell_type": "code",
   "execution_count": null,
   "metadata": {},
   "outputs": [],
   "source": []
  },
  {
   "cell_type": "markdown",
   "metadata": {},
   "source": [
    "## 3. kstest\n",
    "scipy.stats.kstest(rvs, cdf, args=(), N=20, alternative='two-sided', method='auto')\n",
    "- parameters\n",
    "    - rvs : 대상 데이터 (1차원 배열)\n",
    "    - cdf \n",
    "        - str, array-like, callable. str인 경우 scipy.stats의 분포 이름이어야 하며, 이 이름은 cdf 함수로 사용됨\n",
    "        - 정규성 검정에는 'norm'을 넣어주면 됨\n",
    "        - 'norm.cdf'를 넣어줘도 됨\n",
    "- returns\n",
    "    - statistic : 검정통계량\n",
    "    - pvalue : p값"
   ]
  },
  {
   "cell_type": "code",
   "execution_count": 6,
   "metadata": {},
   "outputs": [
    {
     "name": "stdout",
     "output_type": "stream",
     "text": [
      "검정통계량: 0.024574853981643108\n",
      "p-value: 0.5731416330155481\n"
     ]
    }
   ],
   "source": [
    "from scipy.stats import kstest\n",
    "import pandas as pd\n",
    "\n",
    "x = np.random.normal(0,1,1000)\n",
    "stat, pval = kstest(x , 'norm')\n",
    "\n",
    "print(f'검정통계량: {stat}')\n",
    "print(f'p-value: {pval}')"
   ]
  },
  {
   "cell_type": "code",
   "execution_count": 7,
   "metadata": {},
   "outputs": [],
   "source": [
    "data = pd.read_csv('./data/ex7-2.csv')"
   ]
  },
  {
   "cell_type": "markdown",
   "metadata": {},
   "source": [
    "kstest의 두 가지 방법"
   ]
  },
  {
   "cell_type": "code",
   "execution_count": 15,
   "metadata": {},
   "outputs": [
    {
     "data": {
      "text/plain": [
       "KstestResult(statistic=1.0, pvalue=0.0)"
      ]
     },
     "execution_count": 15,
     "metadata": {},
     "output_type": "execute_result"
    }
   ],
   "source": [
    "# 1. 표준 정규분포로 검정\n",
    "kstest(data.X, 'norm')"
   ]
  },
  {
   "cell_type": "code",
   "execution_count": 16,
   "metadata": {},
   "outputs": [
    {
     "data": {
      "text/plain": [
       "KstestResult(statistic=0.08107085426241684, pvalue=0.8711621942265746)"
      ]
     },
     "execution_count": 16,
     "metadata": {},
     "output_type": "execute_result"
    }
   ],
   "source": [
    "# 2. args에 평균과 표준편차를 넣어주는 방식. 정규분포로 검정\n",
    "kstest(data.X, 'norm', args=(data.X.mean(), data.X.std()))"
   ]
  },
  {
   "cell_type": "code",
   "execution_count": null,
   "metadata": {},
   "outputs": [],
   "source": []
  }
 ],
 "metadata": {
  "kernelspec": {
   "display_name": "Python 3",
   "language": "python",
   "name": "python3"
  },
  "language_info": {
   "codemirror_mode": {
    "name": "ipython",
    "version": 3
   },
   "file_extension": ".py",
   "mimetype": "text/x-python",
   "name": "python",
   "nbconvert_exporter": "python",
   "pygments_lexer": "ipython3",
   "version": "3.8.3"
  }
 },
 "nbformat": 4,
 "nbformat_minor": 4
}
