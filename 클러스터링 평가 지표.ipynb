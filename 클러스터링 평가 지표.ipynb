{
 "cells": [
  {
   "cell_type": "code",
   "execution_count": 4,
   "metadata": {},
   "outputs": [],
   "source": [
    "from sklearn.datasets import make_blobs\n",
    "import pandas as pd\n",
    "import numpy as np\n",
    "dataset, _ = make_blobs(n_samples=1000, n_features=4, centers=3, cluster_std=0.6, random_state=0)\n",
    "dataset = pd.DataFrame(dataset, columns = ['x1', 'x2', 'x3', 'x4'])"
   ]
  },
  {
   "cell_type": "code",
   "execution_count": 5,
   "metadata": {},
   "outputs": [
    {
     "data": {
      "text/html": [
       "<div>\n",
       "<style scoped>\n",
       "    .dataframe tbody tr th:only-of-type {\n",
       "        vertical-align: middle;\n",
       "    }\n",
       "\n",
       "    .dataframe tbody tr th {\n",
       "        vertical-align: top;\n",
       "    }\n",
       "\n",
       "    .dataframe thead th {\n",
       "        text-align: right;\n",
       "    }\n",
       "</style>\n",
       "<table border=\"1\" class=\"dataframe\">\n",
       "  <thead>\n",
       "    <tr style=\"text-align: right;\">\n",
       "      <th></th>\n",
       "      <th>x1</th>\n",
       "      <th>x2</th>\n",
       "      <th>x3</th>\n",
       "      <th>x4</th>\n",
       "    </tr>\n",
       "  </thead>\n",
       "  <tbody>\n",
       "    <tr>\n",
       "      <th>0</th>\n",
       "      <td>-1.332890</td>\n",
       "      <td>2.096248</td>\n",
       "      <td>-1.708052</td>\n",
       "      <td>8.604367</td>\n",
       "    </tr>\n",
       "    <tr>\n",
       "      <th>1</th>\n",
       "      <td>1.275484</td>\n",
       "      <td>4.932571</td>\n",
       "      <td>2.225835</td>\n",
       "      <td>1.943265</td>\n",
       "    </tr>\n",
       "  </tbody>\n",
       "</table>\n",
       "</div>"
      ],
      "text/plain": [
       "         x1        x2        x3        x4\n",
       "0 -1.332890  2.096248 -1.708052  8.604367\n",
       "1  1.275484  4.932571  2.225835  1.943265"
      ]
     },
     "execution_count": 5,
     "metadata": {},
     "output_type": "execute_result"
    }
   ],
   "source": [
    "dataset.head(2)"
   ]
  },
  {
   "cell_type": "markdown",
   "metadata": {},
   "source": [
    "클러스터링 평가 지표에는 Dunn Index와 Silhouette Score가 있다. \n",
    "\n",
    "Dunn Index와 Silhouette Score를 직접 구해보자.\n",
    "\n",
    "### 1. KMeans를 이용해서 군집화를 진행하시오. \n",
    "- 파라미터 설정\n",
    "    - n_clusters = 3 \n",
    "    - random_state = 0\n",
    "    - 나머지는 default 값을 따른다\n",
    "- sklearn.cluster.KMeans 사용"
   ]
  },
  {
   "cell_type": "code",
   "execution_count": 6,
   "metadata": {},
   "outputs": [
    {
     "name": "stderr",
     "output_type": "stream",
     "text": [
      "/opt/anaconda3/lib/python3.8/site-packages/sklearn/cluster/_kmeans.py:1416: FutureWarning: The default value of `n_init` will change from 10 to 'auto' in 1.4. Set the value of `n_init` explicitly to suppress the warning\n",
      "  super()._check_params_vs_input(X, default_n_init=10)\n"
     ]
    }
   ],
   "source": [
    "from sklearn.cluster import KMeans\n",
    "\n",
    "# 군집화 수행\n",
    "kmeans = KMeans(n_clusters=3, random_state=0).fit(dataset)\n",
    "\n",
    "# 라벨 저장\n",
    "labels = kmeans.labels_\n",
    "\n",
    "# 거리 계산시 사용하는 열 이름 따로 저장 (x들만 저장)\n",
    "cols = dataset.columns\n",
    "\n",
    "# 군집 필터링을 위해 열 생성\n",
    "dataset['label'] = labels"
   ]
  },
  {
   "cell_type": "markdown",
   "metadata": {},
   "source": [
    "### 2. 군집 간 거리와 군집 내 거리를 구하고자 한다. 두 점의 거리는 '유클리디안 거리'로 계산한다.\n",
    "\n",
    "군집 내 거리 종류는 세 가지가 있으며 각 정의는 아래와 같다  \n",
    "\n",
    "- complete : 군집 내 모든 점들의 거리 중 최대값  \n",
    "    - 군집에 n개의 점이 있으면 nC2 조합의 거리 중 최대 거리\n",
    "- average : 군집 내 모든 점들의 거리 평균  \n",
    "    - 군집에 n개의 점이 있으면 nC2 조합의 거리들의 평균 거리\n",
    "- centroid : (군집의 중심과 군집 내 모든 점들과의 거리 평균) * 2   \n",
    "    - 2를 곱하는 것에 주의"
   ]
  },
  {
   "cell_type": "markdown",
   "metadata": {},
   "source": [
    "#### 2-1 군집별로 군집 내 complete 거리를 모두 구하고, 최대값 구해보기\n",
    "#### 2-2 군집별로 군집 내 average 거리를 모두 구하고, 최대값을 구해보기\n",
    "#### 2-3 군집별로 군집 내 centroid 거리를 모두 구하고, 최대값을 구해보기"
   ]
  },
  {
   "cell_type": "code",
   "execution_count": 7,
   "metadata": {},
   "outputs": [
    {
     "data": {
      "text/plain": [
       "(4.62, 1.59, 2.25)"
      ]
     },
     "execution_count": 7,
     "metadata": {},
     "output_type": "execute_result"
    }
   ],
   "source": [
    "from scipy.spatial.distance import euclidean, pdist, cdist\n",
    "\n",
    "# 리스트 생성\n",
    "intra_complete_dists = []\n",
    "intra_average_dists = []\n",
    "intra_centroid_dists = []\n",
    "\n",
    "for label in set(labels):\n",
    "    # 1. 군집 필터링 \n",
    "    cluster = dataset[dataset['label'] == label][cols]\n",
    "    \n",
    "    # 2. 거리 구하기\n",
    "    complete = pdist(cluster).max()\n",
    "    average = pdist(cluster).mean()\n",
    "    centroid = cdist(cluster, [cluster.mean()]).mean() * 2\n",
    "    \n",
    "    # 3. 거리 삽입\n",
    "    intra_complete_dists.append(complete)\n",
    "    intra_average_dists.append(average)\n",
    "    intra_centroid_dists.append(centroid)\n",
    "    \n",
    "# A, B, C 구하기 (각 배열의 최대값)\n",
    "A, B, C = map(lambda x: round(max(x), 2), [intra_complete_dists, intra_average_dists, intra_centroid_dists])\n",
    "\n",
    "A, B, C"
   ]
  },
  {
   "cell_type": "code",
   "execution_count": null,
   "metadata": {},
   "outputs": [],
   "source": []
  },
  {
   "cell_type": "markdown",
   "metadata": {},
   "source": [
    "군집 간 거리 종류는 네 가지가 있으며 각 정의는 아래와 같다  \n",
    "- single : 두 군집 간 가장 가까운 점들과의 거리  \n",
    "- complete : 두 군집 간 가장 먼 점들과의 거리  \n",
    "- average : 두 군집 간 모든 점들과의 거리 평균  \n",
    "- centroid : 두 군집의 중심점끼리의 거리"
   ]
  },
  {
   "cell_type": "markdown",
   "metadata": {},
   "source": [
    "#### 2-4 서로 다른 두 군집의 single 거리를 모두 구하고, 최소값 구해보기\n",
    "#### 2-5 서로 다른 두 군집의 complete 거리를 모두 구하고, 최소값 구해보기\n",
    "#### 2-6 서로 다른 두 군집의 average 거리를 모두 구하고, 최소값 구해보기\n",
    "#### 2-7 서로 다른 두 군집의 centroid 거리를 모두 구하고, 최소값 구해보기"
   ]
  },
  {
   "cell_type": "code",
   "execution_count": 8,
   "metadata": {},
   "outputs": [
    {
     "data": {
      "text/plain": [
       "(4.91, 11.37, 8.32, 8.2)"
      ]
     },
     "execution_count": 8,
     "metadata": {},
     "output_type": "execute_result"
    }
   ],
   "source": [
    "from itertools import combinations\n",
    "\n",
    "# 리스트 생성\n",
    "inter_single_dists = []\n",
    "inter_complete_dists = []\n",
    "inter_average_dists = []\n",
    "inter_centroid_dists = []\n",
    "\n",
    "for label1, label2 in combinations(set(labels), 2):\n",
    "    # 1. 군집 필터링\n",
    "    cluster1 = dataset[dataset['label'] == label1][cols]\n",
    "    cluster2 = dataset[dataset['label'] == label2][cols]\n",
    "    \n",
    "    # 2. 거리 계산\n",
    "    single = cdist(cluster1, cluster2).min()\n",
    "    complete = cdist(cluster1, cluster2).max()\n",
    "    average = cdist(cluster1, cluster2).mean()\n",
    "    centroid = euclidean(cluster1.mean(), cluster2.mean())\n",
    "    \n",
    "    # 3. 거리 삽입\n",
    "    inter_single_dists.append(single)\n",
    "    inter_complete_dists.append(complete)\n",
    "    inter_average_dists.append(average)\n",
    "    inter_centroid_dists.append(centroid)\n",
    "\n",
    "# D, E, F, G 구하기 (각 배열의 최소값)\n",
    "D, E, F, G = map(lambda x: round(min(x), 2), \\\n",
    "                 [inter_single_dists, inter_complete_dists, inter_average_dists, inter_centroid_dists])\n",
    "\n",
    "D, E, F, G"
   ]
  },
  {
   "cell_type": "code",
   "execution_count": null,
   "metadata": {},
   "outputs": [],
   "source": []
  },
  {
   "cell_type": "markdown",
   "metadata": {},
   "source": [
    "### 3. (군집 간 최소 거리 / 군집 내 최대 거리) 를 Dunn Index라고 한다. \n",
    "#### A\\~C 중 최대값과 D\\~G 중 최소값으로 Dunn Index를 구해보자"
   ]
  },
  {
   "cell_type": "code",
   "execution_count": 9,
   "metadata": {},
   "outputs": [
    {
     "data": {
      "text/plain": [
       "1.06"
      ]
     },
     "execution_count": 9,
     "metadata": {},
     "output_type": "execute_result"
    }
   ],
   "source": [
    "H = round(min(D, E, F, G) / max(A, B, C), 2)\n",
    "\n",
    "H"
   ]
  },
  {
   "cell_type": "markdown",
   "metadata": {},
   "source": [
    "Silhouette 계수는 개별 데이터가 가지는 군집화 지표로, 식은 아래와 같다.\n",
    "\n",
    "### 실루엣 계수 = (b_i - a_i) / max(a_i, b_i)\n",
    "\n",
    "- a_i = mean intra-cluster distance (점 i가 속한 군집 내의 모든 점들과의 거리 평균)\n",
    "  - hint : cdist(cluster, [data_point]).sum() / (len(cluster) - 1)\n",
    "- b_i = mean nearest-cluster distance (점 i와 다른 군집 데이터들과의 평균 거리를 모두 구하고, 그 중 최소값)"
   ]
  },
  {
   "cell_type": "markdown",
   "metadata": {},
   "source": [
    "### 4. 모든 점들의 실루엣 계수를 구하고, 최대값을 I, 최소값을 J 라 하자."
   ]
  },
  {
   "cell_type": "code",
   "execution_count": 10,
   "metadata": {},
   "outputs": [
    {
     "data": {
      "text/plain": [
       "(0.9, 0.66)"
      ]
     },
     "execution_count": 10,
     "metadata": {},
     "output_type": "execute_result"
    }
   ],
   "source": [
    "# 실루엣 계수 리스트\n",
    "sil_samples = []\n",
    "    \n",
    "# 모든 점들 순차적 순회하면서 실루엣 계수 구하기\n",
    "for data, label1 in zip(dataset[cols].values, dataset.label):\n",
    "    # 1. data 군집 필터링\n",
    "    cluster1 = dataset[dataset['label'] == label1][cols]\n",
    "    \n",
    "    # 2. a_i 구하기\n",
    "    a_i = cdist(cluster1, [data]).sum() / (len(cluster1) - 1)\n",
    "    \n",
    "    # 3. data와 다른 군집의 거리 구하기 (b_i 후보)\n",
    "    b_i_ary = []\n",
    "    \n",
    "    for label2 in set(labels):\n",
    "        # 같은 군집이면 pass\n",
    "        if label1 == label2:\n",
    "            continue\n",
    "            \n",
    "        # b_i 계산\n",
    "        cluster2 = dataset[dataset['label'] == label2][cols]\n",
    "        b_i_cand = cdist(cluster2, [data]).mean()\n",
    "        b_i_ary.append(b_i_cand)\n",
    "        \n",
    "    # b_i 중 최소값이 b_i임\n",
    "    b_i = min(b_i_ary)\n",
    "    \n",
    "    # 실루엣 계수 계산 후 리스트에 삽입\n",
    "    sil = (b_i - a_i) / max(a_i, b_i)\n",
    "    sil_samples.append(sil)\n",
    "\n",
    "\n",
    "I, J = map(lambda x: round(x, 2), [max(sil_samples), min(sil_samples)])\n",
    "I, J"
   ]
  },
  {
   "cell_type": "markdown",
   "metadata": {},
   "source": [
    "### 5. 실루엣 계수의 평균값이 Silhouette Score이다. Silhouette Score 구해보자"
   ]
  },
  {
   "cell_type": "code",
   "execution_count": 11,
   "metadata": {},
   "outputs": [
    {
     "data": {
      "text/plain": [
       "0.83"
      ]
     },
     "execution_count": 11,
     "metadata": {},
     "output_type": "execute_result"
    }
   ],
   "source": [
    "K = round(np.mean(sil_samples), 2)\n",
    "K"
   ]
  },
  {
   "cell_type": "code",
   "execution_count": null,
   "metadata": {},
   "outputs": [],
   "source": []
  },
  {
   "cell_type": "code",
   "execution_count": 12,
   "metadata": {},
   "outputs": [
    {
     "data": {
      "text/plain": [
       "(0.9, 0.66, 0.83)"
      ]
     },
     "execution_count": 12,
     "metadata": {},
     "output_type": "execute_result"
    }
   ],
   "source": [
    "# 라이브러리 사용한 값과 비교\n",
    "from sklearn.metrics import silhouette_samples\n",
    "\n",
    "sam = silhouette_samples(dataset[cols], labels)\n",
    "\n",
    "i, j, k = map(lambda x: round(x, 2), [max(sam), min(sam), np.mean(sam)])\n",
    "i, j, k"
   ]
  }
 ],
 "metadata": {
  "kernelspec": {
   "display_name": "Python 3",
   "language": "python",
   "name": "python3"
  },
  "language_info": {
   "codemirror_mode": {
    "name": "ipython",
    "version": 3
   },
   "file_extension": ".py",
   "mimetype": "text/x-python",
   "name": "python",
   "nbconvert_exporter": "python",
   "pygments_lexer": "ipython3",
   "version": "3.8.5"
  }
 },
 "nbformat": 4,
 "nbformat_minor": 4
}
