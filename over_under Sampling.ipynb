{
 "cells": [
  {
   "cell_type": "markdown",
   "metadata": {},
   "source": [
    "참고 링크\n",
    "https://casa-de-feel.tistory.com/15"
   ]
  },
  {
   "cell_type": "markdown",
   "metadata": {},
   "source": [
    "# Over Sampling\n",
    "#### 소수 범주의 데이터를 다수 범주의 데이터 수에 맞게 늘리는 샘플링 방식"
   ]
  },
  {
   "cell_type": "markdown",
   "metadata": {},
   "source": [
    "## 1. RandomOverSampler\n",
    "#### 기존의 데이터를 무작위로 복제하는 기법\n",
    "imblearn.over_sampling.RandomOverSampler(*, sampling_strategy='auto', random_state=None, shrinkage=None)\n",
    "- parameters\n",
    "    - sampling_strategy : float, str, dict or callable, default=’auto’\n",
    "        - float : 비율을 뜻한다. minor / major 의 비율\n",
    "        - str \n",
    "            - minority : 소수 클래스만 resampling\n",
    "            - not minority : 소수를 제외한 모든 클래스를 resampling\n",
    "            - not majority : 다수를 제외한 모든 클래스를 resampling\n",
    "            - all : 모든 클래스를 resampling\n",
    "            - auto : not majority 와 동일\n",
    "        - <strong>dict : { target : 목표개수 } 로, target을 목표개수만큼 resampling 해준다. 목표개수는 원래 개수보다 많아야함.</strong>\n",
    "        "
   ]
  },
  {
   "cell_type": "markdown",
   "metadata": {},
   "source": [
    "## 2. SMOTE\n",
    "#### knn과 비슷하다. 임의의 minor 한 점을 선택하고 이웃 k 개의 minor와 직선을 긋고, 그 내분점 어딘가에 새로운 데이터를 생성\n",
    "imblearn.over_sampling.SMOTE(*, sampling_strategy='auto', random_state=None, k_neighbors=5, n_jobs=None)\n",
    "- parameters\n",
    "    - sampling_strategy : RandomOverSampling과 완전 똑같다\n",
    "    - k_neighbors : 이웃 개수 설정"
   ]
  },
  {
   "cell_type": "markdown",
   "metadata": {},
   "source": [
    "## 3. BorderlineSMOTE\n",
    "#### Borderline 부분에 대해서만 SMOTE 방식을 사용하는 것입니다.\n",
    "imblearn.over_sampling.BorderlineSMOTE(*, sampling_strategy='auto', random_state=None, k_neighbors=5, n_jobs=None, m_neighbors=10, kind='borderline-1')"
   ]
  },
  {
   "cell_type": "markdown",
   "metadata": {},
   "source": [
    "## 4. ADASYN\n",
    "#### Borderline의 응용 버전\n",
    "imblearn.over_sampling.ADASYN(*, sampling_strategy='auto', random_state=None, n_neighbors=5, n_jobs=None)"
   ]
  },
  {
   "cell_type": "code",
   "execution_count": 2,
   "metadata": {},
   "outputs": [],
   "source": [
    "from sklearn.datasets import make_classification\n",
    "X, y = make_classification(n_samples=5000, n_features=2, n_informative=2,\n",
    "                           n_redundant=0, n_repeated=0, n_classes=3,\n",
    "                           n_clusters_per_class=1,\n",
    "                           weights=[0.01, 0.05, 0.94],\n",
    "                           class_sep=0.8, random_state=0)"
   ]
  },
  {
   "cell_type": "code",
   "execution_count": 3,
   "metadata": {},
   "outputs": [],
   "source": [
    "from imblearn.over_sampling import RandomOverSampler, SMOTE, ADASYN, BorderlineSMOTE\n",
    "\n",
    "ros = RandomOverSampler(random_state=42, sampling_strategy={0 : 200})\n",
    "smote = SMOTE(random_state=42)\n",
    "adasyn = ADASYN(random_state=42)\n",
    "borderline_smote = BorderlineSMOTE(random_state=42)\n",
    "\n",
    "# 이런식으로 학습만 시키면 됨\n",
    "X_resampled, y_resampled = ros.fit_resample(X, y)"
   ]
  },
  {
   "cell_type": "code",
   "execution_count": null,
   "metadata": {},
   "outputs": [],
   "source": []
  },
  {
   "cell_type": "markdown",
   "metadata": {},
   "source": [
    "# Under Sampling\n",
    "#### 다수 범주의 데이터를 소수 범주의 데이터 수에 맞게 줄이는 샘플링 방식"
   ]
  },
  {
   "cell_type": "markdown",
   "metadata": {},
   "source": [
    "## 1. RandomUnderSampler\n",
    "#### 기존의 데이터 무작위 삭제\n",
    "class imblearn.under_sampling.RandomUnderSampler(*, sampling_strategy='auto', random_state=None, replacement=False)"
   ]
  },
  {
   "cell_type": "markdown",
   "metadata": {},
   "source": [
    "## 2. Tomek Links\n",
    "#### Tomek Links를 형성한 후, 다수 범주에 속한 관측치를 제거하는 기법\n",
    "#### Tomek Links: 서로 다른 두 클래스의 직선 거리가, 다른 점과 그 두 점의 각 거리보다 가까운 경우를 Tomek Links라고 한다. 쉽게 말해서 서로 다른 두 클래스의 거리가 가장 가까운 점들. \n",
    "imblearn.under_sampling.TomekLinks(*, sampling_strategy='auto', n_jobs=None)"
   ]
  },
  {
   "cell_type": "markdown",
   "metadata": {},
   "source": [
    "## 3. CNN Rule\n",
    "imblearn.under_sampling.CondensedNearestNeighbour(*, sampling_strategy='auto', random_state=None, n_neighbors=None, n_seeds_S=1, n_jobs=None)"
   ]
  },
  {
   "cell_type": "markdown",
   "metadata": {},
   "source": [
    "## 4. OneSidedSelection\n",
    "imblearn.under_sampling.CondensedNearestNeighbour(*, sampling_strategy='auto', random_state=None, n_neighbors=None, n_seeds_S=1, n_jobs=None)"
   ]
  },
  {
   "cell_type": "code",
   "execution_count": 22,
   "metadata": {},
   "outputs": [
    {
     "name": "stdout",
     "output_type": "stream",
     "text": [
      "Original dataset shape Counter({1: 900, 0: 100})\n",
      "Resampled dataset shape Counter({1: 496, 0: 100})\n"
     ]
    }
   ],
   "source": [
    "from collections import Counter\n",
    "from sklearn.datasets import make_classification\n",
    "from imblearn.under_sampling import OneSidedSelection\n",
    "\n",
    "X, y = make_classification(n_classes=2, class_sep=2,\n",
    "weights=[0.1, 0.9], n_informative=3, n_redundant=1, flip_y=0,\n",
    "n_features=20, n_clusters_per_class=1, n_samples=1000, random_state=10)\n",
    "print('Original dataset shape %s' % Counter(y))\n",
    "\n",
    "\n",
    "# 사용법\n",
    "oss = OneSidedSelection(random_state=42)\n",
    "X_res, y_res = oss.fit_resample(X, y)\n",
    "\n",
    "\n",
    "print('Resampled dataset shape %s' % Counter(y_res))"
   ]
  }
 ],
 "metadata": {
  "kernelspec": {
   "display_name": "Python 3",
   "language": "python",
   "name": "python3"
  },
  "language_info": {
   "codemirror_mode": {
    "name": "ipython",
    "version": 3
   },
   "file_extension": ".py",
   "mimetype": "text/x-python",
   "name": "python",
   "nbconvert_exporter": "python",
   "pygments_lexer": "ipython3",
   "version": "3.8.3"
  }
 },
 "nbformat": 4,
 "nbformat_minor": 4
}
