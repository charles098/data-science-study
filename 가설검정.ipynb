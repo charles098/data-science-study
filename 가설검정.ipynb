{
 "cells": [
  {
   "cell_type": "code",
   "execution_count": 69,
   "metadata": {},
   "outputs": [],
   "source": [
    "import pandas as pd\n",
    "import numpy as np\n",
    "from scipy import stats"
   ]
  },
  {
   "cell_type": "code",
   "execution_count": 70,
   "metadata": {},
   "outputs": [
    {
     "data": {
      "text/plain": [
       "0.9988722898166406"
      ]
     },
     "execution_count": 70,
     "metadata": {},
     "output_type": "execute_result"
    }
   ],
   "source": [
    "t.cdf(3.35, df=29)"
   ]
  },
  {
   "cell_type": "code",
   "execution_count": null,
   "metadata": {},
   "outputs": [],
   "source": [
    "# p-value 구하기 : 왼쪽 꼬리임에 주의\n",
    "t.cdf(검정통계량, 자유도)\n",
    "norm.cdf(검정통계량, 자유도)\n",
    "\n",
    "# 임계값 구하기 : 유의수준은 양측구간인 경우 a/2 인 것에 주의\n",
    "t.pdf(유의수준, 자유도)"
   ]
  },
  {
   "cell_type": "markdown",
   "metadata": {},
   "source": [
    "# 1. t-test"
   ]
  },
  {
   "cell_type": "markdown",
   "metadata": {},
   "source": [
    "## 1) 단일 표본 검정 (ttest_1samp)\n",
    "- 귀무가설 : 평균 = u\n",
    "- 대립가설 : 평균 != u"
   ]
  },
  {
   "cell_type": "code",
   "execution_count": 73,
   "metadata": {},
   "outputs": [
    {
     "name": "stdout",
     "output_type": "stream",
     "text": [
      "검정 통계량: 0.8955334711889819\n",
      "P-value: 0.39382281469156566\n",
      "귀무가설 채택: 학급의 평균 키는 170cm이다.\n"
     ]
    }
   ],
   "source": [
    "heights = np.array([168, 172, 169, 173, 171, 170, 174, 169, 172, 168])\n",
    "\n",
    "# 귀무가설: 학급의 평균 키는 170cm이다.\n",
    "# 대립가설: 학급의 평균 키는 170cm이 아니다.\n",
    "hypothesized_mean = 170\n",
    "\n",
    "# 단일 표본 t-검정 수행\n",
    "statistic, p_value = stats.ttest_1samp(heights, hypothesized_mean)\n",
    "\n",
    "# 결과 출력\n",
    "print(f\"검정 통계량: {statistic}\")\n",
    "print(f\"P-value: {p_value}\")\n",
    "\n",
    "# 유의수준과 비교하여 귀무가설 기각 여부 결정\n",
    "alpha = 0.05\n",
    "if p_value < alpha:\n",
    "    print(f\"귀무가설 기각: 학급의 평균 키는 {hypothesized_mean}cm이 아니다.\")\n",
    "else:\n",
    "    print(f\"귀무가설 채택: 학급의 평균 키는 {hypothesized_mean}cm이다.\")"
   ]
  },
  {
   "cell_type": "markdown",
   "metadata": {},
   "source": [
    "## 2) 2 표본 검정\n",
    "- 귀무가설 : 두 집단의 평균이 같다\n",
    "- 대립가설 : 두 집단의 평균이 다르다"
   ]
  },
  {
   "cell_type": "markdown",
   "metadata": {},
   "source": [
    "### 쌍체 표본 검정 (ttest_rel)\n",
    "- 같은 사람에게 A, B 약 실험하는 경우\n",
    "- 두 표본의 크기는 반드시!! 같아야 한다"
   ]
  },
  {
   "cell_type": "code",
   "execution_count": 74,
   "metadata": {},
   "outputs": [
    {
     "name": "stdout",
     "output_type": "stream",
     "text": [
      "검정 통계량: 11.129112402035613\n",
      "P-value: 1.458947122944854e-06\n",
      "귀무가설 기각: 시간 전후에 차이가 있다.\n"
     ]
    }
   ],
   "source": [
    "# 예제 데이터 생성\n",
    "before = np.array([23, 25, 28, 32, 29, 30, 31, 22, 27, 26])\n",
    "after = np.array([21, 24, 26, 30, 28, 28, 30, 20, 25, 24])\n",
    "\n",
    "# 쌍체표본 t-검정 수행\n",
    "statistic, p_value = stats.ttest_rel(before, after)\n",
    "\n",
    "# 결과 출력\n",
    "print(f\"검정 통계량: {statistic}\")\n",
    "print(f\"P-value: {p_value}\")\n",
    "\n",
    "# 유의수준과 비교하여 귀무가설 기각 여부 결정\n",
    "alpha = 0.05\n",
    "if p_value < alpha:\n",
    "    print(\"귀무가설 기각: 시간 전후에 차이가 있다.\")\n",
    "else:\n",
    "    print(\"귀무가설 채택: 시간 전후에 차이가 없다.\")"
   ]
  },
  {
   "cell_type": "markdown",
   "metadata": {},
   "source": [
    "### 독립 표본 검정 (ttest_ind)\n",
    "- 독립적인 두 집간단 검정\n",
    "- 두 표본 크기가 달라도 된다\n",
    "- equal_var에 따라 합동분산(pooled variance) 여부가 결정된다"
   ]
  },
  {
   "cell_type": "code",
   "execution_count": 75,
   "metadata": {},
   "outputs": [
    {
     "name": "stdout",
     "output_type": "stream",
     "text": [
      "검정 통계량: 1.1169073436899266\n",
      "P-value: 0.27872153065219607\n",
      "귀무가설 채택: 두 그룹 간에 차이가 없다.\n"
     ]
    }
   ],
   "source": [
    "group1 = np.array([23, 25, 28, 32, 29, 30, 31, 22, 27, 26])\n",
    "group2 = np.array([21, 24, 26, 30, 28, 28, 30, 20, 25, 24])\n",
    "\n",
    "# 대립표본 t-검정 수행\n",
    "statistic, p_value = stats.ttest_ind(group1, group2)\n",
    "\n",
    "# 결과 출력\n",
    "print(f\"검정 통계량: {statistic}\")\n",
    "print(f\"P-value: {p_value}\")\n",
    "\n",
    "# 유의수준과 비교하여 귀무가설 기각 여부 결정\n",
    "alpha = 0.05\n",
    "if p_value < alpha:\n",
    "    print(\"귀무가설 기각: 두 그룹 간에 차이가 있다.\")\n",
    "else:\n",
    "    print(\"귀무가설 채택: 두 그룹 간에 차이가 없다.\")"
   ]
  },
  {
   "cell_type": "markdown",
   "metadata": {},
   "source": [
    "# 2. 모비율 추정"
   ]
  },
  {
   "cell_type": "markdown",
   "metadata": {},
   "source": [
    "### 1) 한 그룹에 대한 모비율 추정\n",
    "- 귀무가설 : 비율 = value(파라미터 값)"
   ]
  },
  {
   "cell_type": "code",
   "execution_count": 89,
   "metadata": {},
   "outputs": [
    {
     "name": "stdout",
     "output_type": "stream",
     "text": [
      "Z-통계량: 4.364357804719846\n",
      "P-value: 1.274967492109715e-05\n",
      "귀무가설 기각: 모비율은 0.5이 아니다.\n"
     ]
    }
   ],
   "source": [
    "import numpy as np\n",
    "from statsmodels.stats.proportion import proportions_ztest\n",
    "\n",
    "\n",
    "# 예제 데이터: 한 그룹에서의 성공 비율\n",
    "sample_size = 100\n",
    "success_count = 70\n",
    "\n",
    "# 귀무가설: 모비율은 0.5이다.\n",
    "null_hypothesis = 0.5\n",
    "\n",
    "alpha = 0.05\n",
    "\n",
    "# 가설 검정 수행\n",
    "# 표본 비율 계산\n",
    "sample_proportion = success_count / sample_size\n",
    "\n",
    "# 가설 검정\n",
    "z_stat, p_value = proportions_ztest(success_count, sample_size, value=null_hypothesis, alternative='two-sided')\n",
    "\n",
    "# 결과 출력\n",
    "print(f\"Z-통계량: {z_stat}\")\n",
    "print(f\"P-value: {p_value}\")\n",
    "\n",
    "# 유의수준과 비교하여 귀무가설 기각 여부 결정\n",
    "if p_value < alpha:\n",
    "    print(f\"귀무가설 기각: 모비율은 {null_hypothesis}이 아니다.\")\n",
    "else:\n",
    "    print(f\"귀무가설 채택: 모비율은 {null_hypothesis}이다.\")"
   ]
  },
  {
   "cell_type": "markdown",
   "metadata": {},
   "source": [
    "### 2) 두 그룹에 대한 모비율 추정"
   ]
  },
  {
   "cell_type": "code",
   "execution_count": 90,
   "metadata": {},
   "outputs": [
    {
     "name": "stdout",
     "output_type": "stream",
     "text": [
      "Z-통계량: 0.5285499781147278\n",
      "P-value: 0.5971176684141065\n",
      "귀무가설 채택: 두 모비율은 같다.\n"
     ]
    }
   ],
   "source": [
    "import numpy as np\n",
    "from statsmodels.stats.proportion import proportions_ztest\n",
    "\n",
    "def proportion_two_sample_test(sample1_size, sample1_success, sample2_size, sample2_success, alpha=0.05):\n",
    "    # 표본 비율 계산\n",
    "    prop1 = sample1_success / sample1_size\n",
    "    prop2 = sample2_success / sample2_size\n",
    "\n",
    "    # 가설 검정\n",
    "    z_stat, p_value = proportions_ztest([sample1_success, sample2_success], [sample1_size, sample2_size], alternative='two-sided')\n",
    "\n",
    "    # 결과 출력\n",
    "    print(f\"Z-통계량: {z_stat}\")\n",
    "    print(f\"P-value: {p_value}\")\n",
    "\n",
    "    # 유의수준과 비교하여 귀무가설 기각 여부 결정\n",
    "    if p_value < alpha:\n",
    "        print(\"귀무가설 기각: 두 모비율은 다르다.\")\n",
    "    else:\n",
    "        print(\"귀무가설 채택: 두 모비율은 같다.\")\n",
    "\n",
    "# 예제 데이터: 두 그룹에서의 성공 비율\n",
    "sample1_size = 100\n",
    "sample1_success = 70\n",
    "\n",
    "sample2_size = 120\n",
    "sample2_success = 80\n",
    "\n",
    "# 가설 검정 수행\n",
    "proportion_two_sample_test(sample1_size, sample1_success, sample2_size, sample2_success)\n"
   ]
  },
  {
   "cell_type": "markdown",
   "metadata": {},
   "source": [
    "# 3. 이산형 자료 분석"
   ]
  },
  {
   "cell_type": "markdown",
   "metadata": {},
   "source": [
    "## 1) 일원산 분석"
   ]
  },
  {
   "cell_type": "code",
   "execution_count": 100,
   "metadata": {},
   "outputs": [
    {
     "name": "stdout",
     "output_type": "stream",
     "text": [
      "카이제곱 통계량: 3.394096099978456\n",
      "P-value: 0.18322359342023686\n",
      "귀무가설 채택: 분포가 기대와 일치한다.\n"
     ]
    }
   ],
   "source": [
    "import numpy as np\n",
    "from scipy.stats import chi2_contingency\n",
    "\n",
    "# 예제 데이터: 실제 관측된 빈도\n",
    "observed_counts = np.array([30, 45, 25])\n",
    "\n",
    "# 예제 데이터: 기대되는 빈도 (귀무가설에서 기대되는 값)\n",
    "expected_counts = np.array([40, 40, 40])\n",
    "\n",
    "# 일원분할표의 적합도 검정\n",
    "chi2_stat, p_value, *_ = chi2_contingency([observed_counts, expected_counts])\n",
    "\n",
    "# 결과 출력\n",
    "print(f\"카이제곱 통계량: {chi2_stat}\")\n",
    "print(f\"P-value: {p_value}\")\n",
    "\n",
    "# 유의수준과 비교하여 귀무가설 기각 여부 결정\n",
    "alpha = 0.05\n",
    "if p_value < alpha:\n",
    "    print(\"귀무가설 기각: 분포가 기대와 다르다.\")\n",
    "else:\n",
    "    print(\"귀무가설 채택: 분포가 기대와 일치한다.\")\n"
   ]
  }
 ],
 "metadata": {
  "kernelspec": {
   "display_name": "Python 3",
   "language": "python",
   "name": "python3"
  },
  "language_info": {
   "codemirror_mode": {
    "name": "ipython",
    "version": 3
   },
   "file_extension": ".py",
   "mimetype": "text/x-python",
   "name": "python",
   "nbconvert_exporter": "python",
   "pygments_lexer": "ipython3",
   "version": "3.8.5"
  }
 },
 "nbformat": 4,
 "nbformat_minor": 4
}
