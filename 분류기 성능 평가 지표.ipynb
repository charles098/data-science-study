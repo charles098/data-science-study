{
 "cells": [
  {
   "cell_type": "code",
   "execution_count": 88,
   "metadata": {},
   "outputs": [],
   "source": [
    "from sklearn.datasets import load_breast_cancer\n",
    "from sklearn.tree import DecisionTreeClassifier\n",
    "from sklearn.model_selection import train_test_split\n",
    "from sklearn.metrics import accuracy_score, f1_score, precision_score, recall_score, roc_auc_score\n",
    "\n",
    "cancer = load_breast_cancer()\n",
    "data = cancer.data\n",
    "target = cancer.target\n",
    "\n",
    "x_train, x_test, y_train, y_test = train_test_split(data, target, test_size=0.3, stratify=target)\n",
    "dt = DecisionTreeClassifier().fit(x_train, y_train)"
   ]
  },
  {
   "cell_type": "markdown",
   "metadata": {},
   "source": [
    "## sklearn.metrics\n",
    "#### 이진 분류기 성능 평가 지표로, multiclass 일때는 average 파라미터 추가 설정 필요\n",
    "#### ~score(x_test, pred) 형태로 사용법은 똑같다\n",
    "- accuracy_score\n",
    "- precision_score\n",
    "- recall_score\n",
    "- f1_score"
   ]
  },
  {
   "cell_type": "code",
   "execution_count": 89,
   "metadata": {},
   "outputs": [
    {
     "data": {
      "text/plain": [
       "(0.9181286549707602, 0.926605504587156, 0.9439252336448598, 0.9351851851851852)"
      ]
     },
     "execution_count": 89,
     "metadata": {},
     "output_type": "execute_result"
    }
   ],
   "source": [
    "pred = dt.predict(x_test)\n",
    "\n",
    "accuracy = accuracy_score(y_test, pred)\n",
    "precision = precision_score(y_test, pred)\n",
    "recall = recall_score(y_test, pred)\n",
    "f1 = f1_score(y_test, pred)\n",
    "\n",
    "accuracy, precision, recall, f1"
   ]
  },
  {
   "cell_type": "code",
   "execution_count": null,
   "metadata": {},
   "outputs": [],
   "source": []
  },
  {
   "cell_type": "markdown",
   "metadata": {},
   "source": [
    "## roc_auc_score\n",
    "\n",
    "sklearn.metrics.roc_auc_score(y_true, y_score, *, average='macro', sample_weight=None, max_fpr=None, multi_class='raise', labels=None)\n",
    "- y_true : 실제 클래스 값\n",
    "- y_score : predict_proba()의 반환값에서 Positive 칼럼의 예측 확률 사용\n",
    "- preeict_proba는 데이터마다 class별 예측 확률을 계산해주는데 class 순서는 estimator.classes_ 순서와 같다\n",
    "- 보통 roc_auc_score(y_test, proba[:, 1]) 과 같이 쓴다"
   ]
  },
  {
   "cell_type": "code",
   "execution_count": 91,
   "metadata": {},
   "outputs": [
    {
     "data": {
      "text/plain": [
       "array([0, 1])"
      ]
     },
     "execution_count": 91,
     "metadata": {},
     "output_type": "execute_result"
    }
   ],
   "source": [
    "proba = dt.predict_proba(x_test)\n",
    "\n",
    "# class 순서는 0, 1 \n",
    "dt.classes_"
   ]
  },
  {
   "cell_type": "code",
   "execution_count": 92,
   "metadata": {},
   "outputs": [
    {
     "data": {
      "text/plain": [
       "0.9094626168224299"
      ]
     },
     "execution_count": 92,
     "metadata": {},
     "output_type": "execute_result"
    }
   ],
   "source": [
    "# 1번째 인덱스 (Positive 컬럼) 사용\n",
    "roc_auc_score(y_test, proba[:, 1])"
   ]
  }
 ],
 "metadata": {
  "kernelspec": {
   "display_name": "Python 3",
   "language": "python",
   "name": "python3"
  },
  "language_info": {
   "codemirror_mode": {
    "name": "ipython",
    "version": 3
   },
   "file_extension": ".py",
   "mimetype": "text/x-python",
   "name": "python",
   "nbconvert_exporter": "python",
   "pygments_lexer": "ipython3",
   "version": "3.8.3"
  }
 },
 "nbformat": 4,
 "nbformat_minor": 4
}
